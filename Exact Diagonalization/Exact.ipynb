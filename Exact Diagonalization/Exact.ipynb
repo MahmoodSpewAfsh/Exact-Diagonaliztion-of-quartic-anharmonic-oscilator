{
 "cells": [
  {
   "cell_type": "code",
   "execution_count": 1,
   "metadata": {},
   "outputs": [],
   "source": [
    "import numpy as np\n",
    "import scipy.linalg as lg"
   ]
  },
  {
   "cell_type": "code",
   "execution_count": 2,
   "metadata": {},
   "outputs": [],
   "source": [
    "def H(m, n, g):\n",
    "\n",
    "    fac = g/16.0\n",
    "    if m-n == 4:\n",
    "        return fac * np.sqrt((n+1)*(n+2)*(n+3)*(n+4))\n",
    "    elif m-n == 2:\n",
    "        return fac * 2 * (3 + 2*n) * np.sqrt((n+1)*(n+2))\n",
    "    elif m == n:\n",
    "        return fac * (3+6*n+6*n**2)+n+0.5\n",
    "    elif m-n == -2:\n",
    "        return fac*2*(2*n-1)*np.sqrt(n*(n-1))\n",
    "    elif m-n == -4:\n",
    "        return fac*np.sqrt(n*(n-1)*(n-2)*(n-3))\n",
    "    else:\n",
    "        return 0"
   ]
  },
  {
   "cell_type": "code",
   "execution_count": 3,
   "metadata": {},
   "outputs": [],
   "source": [
    "def es(g, N):\n",
    "    mt = np.matrix([[H(m, n, g) for m in range(N)] for n in range(N)])\n",
    "    return lg.eigvalsh(mt)"
   ]
  },
  {
   "cell_type": "code",
   "execution_count": 4,
   "metadata": {},
   "outputs": [],
   "source": [
    "def mat(g, N):\n",
    "    mt = np.matrix([[H(m, n, g) for m in range(N)] for n in range(N)])\n",
    "    return mt"
   ]
  },
  {
   "cell_type": "code",
   "execution_count": 132,
   "metadata": {},
   "outputs": [],
   "source": [
    "Er0 = es(4, 30)"
   ]
  },
  {
   "cell_type": "code",
   "execution_count": 133,
   "metadata": {},
   "outputs": [
    {
     "data": {
      "text/plain": [
       "array([8.03770778e-01, 2.73789447e+00, 5.17929787e+00, 7.94250278e+00,\n",
       "       1.09656916e+01, 1.42077468e+01, 1.76488616e+01, 2.13668095e+01,\n",
       "       2.61999961e+01, 3.18918334e+01, 4.16196311e+01, 5.12664818e+01,\n",
       "       6.91040161e+01, 8.41913709e+01, 1.13983851e+02, 1.36255156e+02,\n",
       "       1.83494686e+02, 2.15071848e+02, 2.87647176e+02, 3.31099772e+02,\n",
       "       4.40626738e+02, 4.99105511e+02, 6.63531161e+02, 7.41010835e+02,\n",
       "       9.90360035e+02, 1.09211284e+03, 1.48399921e+03, 1.61768687e+03,\n",
       "       2.29858588e+03, 2.47780253e+03])"
      ]
     },
     "execution_count": 133,
     "metadata": {},
     "output_type": "execute_result"
    }
   ],
   "source": [
    "Er0"
   ]
  },
  {
   "cell_type": "code",
   "execution_count": 137,
   "metadata": {},
   "outputs": [],
   "source": [
    "E0, V0 = lg.eig(mat(4, 30))"
   ]
  },
  {
   "cell_type": "code",
   "execution_count": 138,
   "metadata": {},
   "outputs": [
    {
     "data": {
      "text/plain": [
       "array([2.29858588e+03+0.j, 1.48399921e+03+0.j, 2.47780253e+03+0.j,\n",
       "       9.90360035e+02+0.j, 1.61768687e+03+0.j, 1.09211284e+03+0.j,\n",
       "       6.63531161e+02+0.j, 4.40626738e+02+0.j, 7.41010835e+02+0.j,\n",
       "       4.99105511e+02+0.j, 2.87647176e+02+0.j, 3.31099772e+02+0.j,\n",
       "       1.83494686e+02+0.j, 2.15071848e+02+0.j, 1.13983851e+02+0.j,\n",
       "       6.91040161e+01+0.j, 1.36255156e+02+0.j, 4.16196311e+01+0.j,\n",
       "       8.41913709e+01+0.j, 2.61999961e+01+0.j, 8.03770778e-01+0.j,\n",
       "       5.17929787e+00+0.j, 1.76488616e+01+0.j, 1.09656916e+01+0.j,\n",
       "       5.12664818e+01+0.j, 3.18918334e+01+0.j, 2.73789447e+00+0.j,\n",
       "       7.94250278e+00+0.j, 2.13668095e+01+0.j, 1.42077468e+01+0.j])"
      ]
     },
     "execution_count": 138,
     "metadata": {},
     "output_type": "execute_result"
    }
   ],
   "source": [
    "E0"
   ]
  },
  {
   "cell_type": "code",
   "execution_count": 139,
   "metadata": {},
   "outputs": [
    {
     "data": {
      "text/plain": [
       "array([[ 4.07522981e-11,  3.98768469e-09,  8.32734753e-17,\n",
       "         1.26741468e-07, -3.03826857e-16, -4.28238017e-16,\n",
       "        -2.10477892e-06,  2.20484201e-05,  2.12409050e-16,\n",
       "        -7.26365648e-18, -1.60620598e-04, -1.50542787e-16,\n",
       "        -8.60702629e-04,  2.50127261e-16,  3.50063702e-03,\n",
       "        -1.09181197e-02,  1.89674508e-16,  2.56335313e-02,\n",
       "         3.97210348e-16,  4.31463633e-02,  9.70796029e-01,\n",
       "         1.96048196e-01, -6.34764822e-02, -1.11534741e-01,\n",
       "         5.04402772e-17,  1.45568994e-16,  4.03523509e-15,\n",
       "         1.61692818e-15, -3.41025010e-16,  9.28183064e-16],\n",
       "       [ 2.85822855e-17,  9.29422018e-17,  1.62098667e-10,\n",
       "         2.42443440e-16, -1.52613419e-08, -4.67012259e-07,\n",
       "        -4.55655044e-18,  1.18599334e-17,  7.45551963e-06,\n",
       "        -7.48873648e-05, -1.78792984e-16,  5.21540314e-04,\n",
       "        -6.70314866e-18, -2.66416711e-03, -3.49035784e-16,\n",
       "         3.52308560e-16,  1.03157078e-02, -2.58618614e-16,\n",
       "        -3.07401845e-02,  2.39249814e-15, -2.38954817e-15,\n",
       "        -3.82471396e-15, -1.40895434e-15,  8.41850066e-16,\n",
       "         7.01683296e-02,  1.18539575e-01, -8.76557330e-01,\n",
       "         3.64489070e-01,  1.56754146e-01, -2.32785587e-01],\n",
       "       [ 2.73457834e-09,  2.14464405e-07,  1.19870248e-16,\n",
       "         5.55251450e-06,  5.26178973e-16, -4.98575420e-16,\n",
       "        -7.52164679e-05,  6.39326745e-04, -1.88729580e-16,\n",
       "        -2.82587364e-16, -3.74251457e-03, -2.72963475e-16,\n",
       "        -1.59040928e-02,  4.72646821e-17,  5.05073405e-02,\n",
       "        -1.21163181e-01, -2.29053087e-16,  2.17411076e-01,\n",
       "        -3.41220093e-16,  2.85494297e-01, -2.33973244e-01,\n",
       "         6.93991647e-01, -3.40059025e-01, -4.49130867e-01,\n",
       "         4.27660794e-16,  7.92439359e-16,  6.81834233e-15,\n",
       "         6.57532034e-15, -2.36240836e-15,  5.24857732e-15],\n",
       "       [ 1.02021297e-16, -7.67830528e-17,  6.38898336e-09,\n",
       "         5.98083791e-17, -4.82410267e-07, -1.20263890e-05,\n",
       "         5.61854828e-17,  1.92607787e-16,  1.56519431e-04,\n",
       "        -1.27359494e-03,  1.58541290e-16,  7.10366497e-03,\n",
       "         2.47109892e-16, -2.85988879e-02,  5.31673001e-16,\n",
       "         1.04509709e-16,  8.54888295e-02, -7.74500110e-16,\n",
       "        -1.91902599e-01,  8.16065348e-16,  6.76055648e-16,\n",
       "         1.04933341e-14,  4.97903326e-16, -2.87933929e-15,\n",
       "         3.22049811e-01,  3.96537842e-01,  4.41141033e-01,\n",
       "         4.19149742e-01,  3.92071208e-01, -4.12340827e-01],\n",
       "       [ 7.17051507e-08,  4.45626606e-06,  7.98404015e-17,\n",
       "         9.27398017e-05,  1.56887671e-16,  2.41172562e-16,\n",
       "        -1.00788110e-03,  6.80251560e-03, -1.11847569e-16,\n",
       "         6.08513192e-16, -3.10776671e-02,  2.79332002e-16,\n",
       "        -1.00527716e-01,  6.42656501e-17,  2.34741169e-01,\n",
       "        -3.95031128e-01,  2.74098939e-16,  4.68356861e-01,\n",
       "        -2.02042170e-16,  3.84469246e-01,  5.15492226e-02,\n",
       "        -5.73055545e-01, -2.60926110e-01, -1.06868537e-01,\n",
       "         1.33968942e-15,  2.25847706e-15, -6.88391031e-15,\n",
       "        -2.55866061e-15, -1.45471995e-15,  6.64290859e-16],\n",
       "       [-5.63442175e-17, -5.16179224e-17,  1.32064360e-07,\n",
       "        -1.42904674e-16, -7.90685083e-06, -1.58449555e-04,\n",
       "        -3.22897112e-17,  5.09787051e-17,  1.65302576e-03,\n",
       "        -1.06566338e-02, -1.93654297e-17,  4.61704212e-02,\n",
       "         1.69038495e-16, -1.40169053e-01,  3.96303924e-16,\n",
       "        -1.04047581e-16,  3.02306660e-01, -2.18407180e-16,\n",
       "        -4.56988185e-01, -1.47663577e-16, -2.11568870e-16,\n",
       "        -8.05338127e-15,  1.54832927e-15,  2.54346339e-15,\n",
       "         4.58902185e-01,  2.66493746e-01, -1.82362974e-01,\n",
       "        -5.78895146e-01,  4.58044643e-02,  1.60602192e-01],\n",
       "       [ 1.13477268e-06,  5.51501234e-05, -7.43207000e-16,\n",
       "         9.07845845e-04,  1.06694053e-16, -3.48691834e-16,\n",
       "        -7.75025655e-03,  4.03400831e-02,  3.42464162e-16,\n",
       "        -6.19117986e-16, -1.37778441e-01, -2.36775537e-16,\n",
       "        -3.16824756e-01, -2.35540919e-16,  4.81677050e-01,\n",
       "        -4.37649683e-01, -8.92190166e-16,  1.37533997e-01,\n",
       "        -5.31338792e-16, -1.62398725e-01, -1.31953242e-03,\n",
       "         3.42588512e-01,  3.08276389e-01,  4.44644831e-01,\n",
       "         7.06272170e-16, -6.37573071e-16,  4.52444411e-15,\n",
       "        -9.67089977e-16,  9.86426833e-16, -2.26226001e-15],\n",
       "       [-1.47781782e-17,  1.45838129e-17,  1.79827601e-06,\n",
       "        -5.32618306e-18, -8.42486369e-05, -1.33527561e-03,\n",
       "         4.09272512e-18,  3.98077372e-18,  1.09289657e-02,\n",
       "        -5.41565602e-02,  5.52705636e-17,  1.74118685e-01,\n",
       "         6.40422979e-17, -3.69506372e-01,  5.16298169e-16,\n",
       "        -1.30827185e-17,  4.96735776e-01,  5.60191965e-16,\n",
       "        -3.45275105e-01, -7.83127171e-16, -2.11695387e-16,\n",
       "         5.87049023e-15, -1.53510588e-15, -1.00216183e-15,\n",
       "        -4.41872907e-02, -3.12687345e-01,  5.93717429e-02,\n",
       "         4.72146406e-01, -3.07491809e-01,  2.08345607e-01],\n",
       "       [ 1.24988307e-05,  4.67653620e-04, -1.24297400e-16,\n",
       "         5.96866522e-03,  8.97698640e-17, -1.45621763e-16,\n",
       "        -3.89231605e-02,  1.49758562e-01, -7.44554347e-17,\n",
       "         1.27131933e-16, -3.55989152e-01,  1.18065218e-17,\n",
       "        -5.04008973e-01, -2.82339708e-16,  3.27416777e-01,\n",
       "         1.26192707e-01, -2.15859651e-16, -3.73504214e-01,\n",
       "         3.53858984e-16, -2.05086022e-01, -8.60045119e-03,\n",
       "        -1.70052349e-01, -4.81519456e-02, -5.09181497e-01,\n",
       "        -8.22371092e-16, -1.20474132e-15, -2.42559318e-15,\n",
       "         2.55635248e-15,  6.23945078e-16,  7.87874041e-16],\n",
       "       [ 3.57144090e-18,  2.93252269e-17,  1.77905803e-05,\n",
       "        -5.49108382e-17, -6.42060635e-04, -7.88731909e-03,\n",
       "        -7.23116814e-17, -5.83890367e-17,  4.92184246e-02,\n",
       "        -1.79335930e-01,  1.55381181e-16,  3.95823810e-01,\n",
       "        -3.57985604e-17, -4.95684004e-01,  4.45931658e-17,\n",
       "        -9.53226282e-17,  2.19966704e-01, -1.04528203e-16,\n",
       "         2.50003743e-01,  9.41107445e-16,  1.24242430e-16,\n",
       "        -3.50233019e-15,  2.52836411e-16, -1.18148683e-16,\n",
       "        -3.49464775e-01, -2.12208185e-02, -9.56177944e-03,\n",
       "        -3.09287500e-01,  2.37470682e-01, -4.21151687e-01],\n",
       "       [ 1.02826340e-04,  2.90655240e-03, -5.62967773e-17,\n",
       "         2.80313701e-02,  6.59220044e-17, -3.94079090e-16,\n",
       "        -1.34255869e-01,  3.56536398e-01,  7.00022815e-16,\n",
       "        -1.76767952e-16, -5.08154263e-01, -1.48179450e-16,\n",
       "        -2.52840598e-01, -3.18603882e-16, -2.60404590e-01,\n",
       "         3.32085283e-01,  1.08995528e-17,  1.06197729e-01,\n",
       "        -2.10674628e-16,  3.22726898e-01,  7.39573409e-03,\n",
       "         6.89052940e-02, -2.27616649e-01,  4.26356718e-01,\n",
       "         3.40783760e-17,  1.76636576e-15,  1.01695527e-15,\n",
       "        -2.50165703e-15, -1.01048614e-15,  1.12646545e-15],\n",
       "       [ 2.82852943e-18,  6.30557796e-18,  1.34890705e-04,\n",
       "        -2.50953866e-17, -3.67982121e-03, -3.41351270e-02,\n",
       "        -6.95670704e-17, -9.25842137e-17,  1.55948893e-01,\n",
       "        -3.88391875e-01,  3.74596668e-16,  4.96348962e-01,\n",
       "         4.24311055e-16, -1.58234099e-01,  5.77750449e-16,\n",
       "         5.55390242e-16, -3.30815337e-01, -4.82498005e-16,\n",
       "         2.42350583e-01, -5.05657549e-16, -6.28577207e-17,\n",
       "         1.83179309e-15,  4.71875561e-16,  4.12685810e-16,\n",
       "         2.40528336e-01,  2.83370467e-01, -6.25708712e-03,\n",
       "         1.73074648e-01, -4.57903366e-03,  4.64663705e-01],\n",
       "       [ 6.58101428e-04,  1.37279713e-02, -1.84197782e-16,\n",
       "         9.66306236e-02, -1.54996100e-16,  1.89137161e-16,\n",
       "        -3.19935700e-01,  5.12382546e-01,  1.27059101e-16,\n",
       "        -2.16473156e-16, -2.49953283e-01, -4.39617952e-16,\n",
       "         3.01339972e-01,  5.90765107e-17, -2.58355443e-01,\n",
       "        -2.71348569e-01,  5.16202609e-16,  2.26023979e-01,\n",
       "         1.32968082e-16, -1.92216609e-01, -4.37499351e-03,\n",
       "        -1.86377783e-02,  3.92003543e-01, -2.99752488e-01,\n",
       "         4.98170034e-16, -1.47655054e-15, -4.07132846e-16,\n",
       "         1.61923278e-15, -2.45544987e-16, -1.96819733e-15],\n",
       "       [ 3.28396754e-18,  3.64732387e-18,  8.09523365e-04,\n",
       "        -8.46278171e-18, -1.63048592e-02, -1.10250417e-01,\n",
       "        -3.29472593e-17,  6.57036173e-17,  3.46195524e-01,\n",
       "        -5.07948813e-01,  9.69093659e-17,  1.74366632e-01,\n",
       "         1.34974074e-16,  3.47905052e-01,  1.08291020e-16,\n",
       "        -2.55863398e-16, -1.68878024e-01,  3.19965036e-16,\n",
       "        -3.28811052e-01, -1.99683301e-16,  2.08455810e-16,\n",
       "        -6.48187252e-16, -1.29565640e-15,  4.01109006e-16,\n",
       "         9.87480563e-02, -3.02657424e-01,  8.44685578e-03,\n",
       "        -8.20590868e-02, -2.24930334e-01, -4.03590719e-01],\n",
       "       [ 3.35836206e-03,  5.01715765e-02, -7.32064792e-17,\n",
       "         2.45147455e-01,  2.32182464e-16,  5.11590105e-16,\n",
       "        -5.03323261e-01,  3.18676912e-01, -4.89223200e-17,\n",
       "         3.87800014e-16,  2.82507273e-01,  7.57111076e-17,\n",
       "         2.42600399e-01,  2.59495873e-16,  3.17226228e-01,\n",
       "        -8.60736943e-02, -2.16309829e-16, -3.33937160e-01,\n",
       "        -1.18587001e-16, -4.29147694e-02,  2.03943328e-03,\n",
       "        -2.05298082e-03, -4.34198932e-01,  1.84080734e-01,\n",
       "        -2.01217351e-16,  8.15794160e-16,  2.04459440e-16,\n",
       "        -4.42708679e-16,  2.27366780e-15,  1.65448286e-15],\n",
       "       [ 1.68085862e-17,  6.79659237e-18,  3.92239730e-03,\n",
       "        -4.65516592e-18, -5.65962107e-02, -2.65006489e-01,\n",
       "        -8.18604958e-18, -7.27992918e-17,  5.09587363e-01,\n",
       "        -2.63681081e-01, -2.94430259e-17, -3.24939505e-01,\n",
       "         2.11686125e-16,  1.70798717e-01,  6.47879945e-17,\n",
       "        -3.09572327e-16,  3.44076217e-01, -8.47734600e-17,\n",
       "         2.06736513e-02,  8.86871759e-16, -4.96831616e-17,\n",
       "        -3.15280920e-16,  1.17498076e-15, -6.93790224e-16,\n",
       "        -3.13577996e-01,  1.32703322e-01, -6.37117395e-03,\n",
       "         2.98975052e-02,  3.68446697e-01,  3.01899938e-01],\n",
       "       [ 1.38646376e-02,  1.42466517e-01, -9.30160425e-17,\n",
       "         4.45812452e-01,  7.87190555e-17,  1.39618156e-16,\n",
       "        -4.34767027e-01, -1.94150609e-01,  3.64351186e-17,\n",
       "        -1.99919723e-16,  2.92656292e-01,  2.72122897e-16,\n",
       "        -3.11111623e-01,  1.00216503e-16,  4.09465212e-02,\n",
       "         3.19629894e-01, -2.24045791e-16,  2.00712146e-01,\n",
       "         1.56109219e-16,  2.53656863e-01, -6.89759918e-04,\n",
       "         7.94617198e-03,  3.91581969e-01, -9.86926245e-02,\n",
       "        -4.45225393e-16, -1.09323559e-16, -1.39042670e-16,\n",
       "        -6.64353914e-16, -3.96422733e-15, -8.57245132e-16],\n",
       "       [ 6.60581152e-17,  1.79435460e-17,  1.55226034e-02,\n",
       "         8.11761013e-20, -1.54056084e-01, -4.59658206e-01,\n",
       "        -1.14767000e-16, -9.31129603e-17,  4.02573813e-01,\n",
       "         2.39415726e-01,  4.28707445e-18, -2.43206656e-01,\n",
       "         8.74057339e-17, -3.35781157e-01,  5.54180262e-17,\n",
       "         3.96542848e-16, -3.94055862e-02,  3.47546555e-16,\n",
       "         2.74471266e-01, -1.48195338e-15,  4.37058250e-17,\n",
       "         4.80551486e-16, -1.19423197e-15,  5.16107260e-16,\n",
       "         2.75815210e-01,  9.80012921e-02,  3.77470305e-03,\n",
       "        -4.26605118e-03, -4.13002616e-01, -2.00715994e-01],\n",
       "       [ 4.66024983e-02,  3.10892390e-01, -1.49426581e-16,\n",
       "         5.32675997e-01,  2.79100869e-16,  2.10145485e-16,\n",
       "         1.78362797e-03, -3.73998420e-01, -1.30770367e-16,\n",
       "        -7.76204715e-17, -2.52346978e-01,  2.30105953e-16,\n",
       "        -8.82867946e-02, -7.95233469e-16, -3.14306714e-01,\n",
       "        -2.61581244e-01,  7.71517670e-16,  4.29334910e-02,\n",
       "        -4.75154819e-16, -3.74306246e-01,  5.84763820e-05,\n",
       "        -7.62116424e-03, -3.08064003e-01,  4.42202794e-02,\n",
       "         1.13805459e-15, -5.36083086e-16, -2.27681404e-16,\n",
       "         1.17722980e-15,  4.63782337e-15,  2.38730318e-16],\n",
       "       [ 2.14436212e-16,  3.73507649e-17,  5.03980566e-02,\n",
       "        -4.91701703e-18, -3.24533525e-01, -5.23450228e-01,\n",
       "        -2.84363492e-16, -1.95172369e-16, -4.55579732e-02,\n",
       "         3.50972614e-01,  1.38955021e-16,  2.85319140e-01,\n",
       "        -8.34455101e-17, -2.75166857e-02,  1.20367980e-16,\n",
       "        -2.09381073e-16, -2.80639145e-01,  6.50422082e-17,\n",
       "        -2.96436874e-01,  2.02852377e-15, -1.54238196e-17,\n",
       "        -3.20601981e-16,  9.05693337e-16, -7.76703983e-16,\n",
       "        -6.27111348e-02, -2.83181974e-01, -1.82619664e-03,\n",
       "        -5.76294254e-03,  3.81686799e-01,  1.19319637e-01],\n",
       "       [ 1.27462396e-01,  5.03223992e-01, -1.41390726e-16,\n",
       "         2.92702108e-01, -2.51209490e-16, -2.95547330e-16,\n",
       "         3.92190843e-01,  9.63158270e-02, -1.50167503e-16,\n",
       "         2.48677717e-16, -2.08772279e-01, -5.52588963e-16,\n",
       "         3.31267518e-01,  4.59384838e-16,  2.43952352e-01,\n",
       "         1.27612523e-02, -4.89057263e-16, -2.55312026e-01,\n",
       "         6.36261846e-16,  3.95436636e-01,  1.61136879e-04,\n",
       "         5.41772879e-03,  2.16738555e-01, -1.39662562e-02,\n",
       "        -1.39844048e-15,  8.47888455e-16,  6.22257300e-16,\n",
       "        -1.00861874e-15, -4.48492000e-15,  2.18101015e-16],\n",
       "       [ 5.70090558e-16,  5.83300769e-17,  1.33990954e-01,\n",
       "         5.07839071e-17, -5.09603514e-01, -2.62154610e-01,\n",
       "        -4.97144671e-16, -3.56074495e-17, -3.96695023e-01,\n",
       "        -1.34460224e-01, -1.28106884e-16,  1.68187844e-01,\n",
       "        -1.08586443e-16,  3.18554014e-01,  2.30795615e-16,\n",
       "         1.78672135e-17,  2.73451146e-01, -3.31368440e-16,\n",
       "         7.97430818e-02, -1.77998234e-15, -9.75840093e-17,\n",
       "         2.49561753e-16, -5.68765362e-16,  3.69603037e-16,\n",
       "        -1.75255800e-01,  3.71607474e-01,  6.61801875e-04,\n",
       "         7.81919509e-03, -3.07417578e-01, -6.25059656e-02],\n",
       "       [ 2.80594449e-01,  5.49805051e-01,  1.56898629e-16,\n",
       "        -1.94006432e-01, -9.72903257e-17, -2.24892490e-16,\n",
       "         1.75137345e-01,  3.38893946e-01,  2.31522917e-16,\n",
       "        -1.34410445e-17,  3.08881109e-01,  2.43750259e-16,\n",
       "        -1.55891589e-01,  3.41013985e-16,  4.49146162e-02,\n",
       "         2.31830653e-01, -1.86292395e-16,  3.54818119e-01,\n",
       "        -2.94374404e-16, -3.40248327e-01, -1.84698685e-04,\n",
       "        -3.20721529e-03, -1.36648551e-01, -1.45350839e-05,\n",
       "         1.03079442e-15, -8.68709882e-16, -6.19365923e-16,\n",
       "         6.08229612e-16,  3.83945743e-15, -6.32661597e-16],\n",
       "       [ 1.22661389e-15,  6.11490026e-17,  2.88298123e-01,\n",
       "         8.08029067e-17, -5.40727272e-01,  2.16093123e-01,\n",
       "        -3.89869919e-16,  8.44390232e-17, -1.45711866e-01,\n",
       "        -3.23676645e-01, -3.48427567e-16, -3.17717530e-01,\n",
       "         1.38014080e-17, -1.87879414e-01,  8.53674868e-17,\n",
       "        -5.61063028e-17, -1.98671009e-03,  2.88464632e-16,\n",
       "         1.82495390e-01,  1.64950006e-15,  9.98818673e-17,\n",
       "        -7.16630689e-17,  4.11297693e-16, -6.74193435e-17,\n",
       "         3.20838320e-01, -3.61405441e-01, -9.32553685e-05,\n",
       "        -6.50226611e-03,  2.18856924e-01,  2.75694648e-02],\n",
       "       [ 4.86392597e-01,  2.74515773e-01,  1.62749572e-16,\n",
       "        -4.08518501e-01, -4.58956805e-17,  1.10862960e-16,\n",
       "        -3.14717889e-01, -1.44002682e-01, -1.91124794e-18,\n",
       "        -1.17167398e-16,  3.28163886e-02,  8.60574504e-17,\n",
       "        -1.80820762e-01, -4.09104724e-16, -2.83868675e-01,\n",
       "        -3.35671271e-01,  3.05115020e-16, -3.30733968e-01,\n",
       "         1.15741499e-16,  2.43395179e-01,  1.35576092e-04,\n",
       "         1.59592489e-03,  7.55923676e-02,  4.38312956e-03,\n",
       "        -4.88101664e-16,  6.87097318e-16,  4.19857341e-16,\n",
       "        -2.87775492e-16, -2.85371173e-15,  8.28493797e-16],\n",
       "       [ 2.08817072e-15,  2.77555757e-17,  4.90795494e-01,\n",
       "         1.41729818e-16, -2.56029575e-01,  4.01456359e-01,\n",
       "        -2.94997336e-16,  9.92636943e-17,  3.23234852e-01,\n",
       "         1.65130939e-01, -6.68006651e-17, -4.57762291e-03,\n",
       "        -2.68096031e-17, -1.51489844e-01,  7.24466355e-17,\n",
       "        -4.78888452e-16, -2.59050138e-01, -2.54322104e-17,\n",
       "        -3.20534553e-01, -9.14920040e-16, -1.03871682e-16,\n",
       "         1.64810493e-16, -2.31664487e-16,  1.84041094e-18,\n",
       "        -3.32517517e-01,  2.80665091e-01, -1.07179948e-04,\n",
       "         4.25225449e-03, -1.35618118e-01, -9.04290440e-03],\n",
       "       [ 6.21975961e-01, -2.06077238e-01, -2.29776596e-16,\n",
       "        -3.92923545e-02,  4.57838741e-16,  5.44424564e-16,\n",
       "        -1.90027067e-01, -2.77798742e-01, -3.00512152e-16,\n",
       "         1.59750157e-16, -3.20401517e-01, -2.22728152e-16,\n",
       "         3.29466883e-01,  2.74165851e-16,  3.13209974e-01,\n",
       "         2.77173410e-01, -1.37243764e-16,  2.22412389e-01,\n",
       "         1.93058451e-16, -1.38046882e-01, -7.42145804e-05,\n",
       "        -6.29517516e-04, -3.43605548e-02, -3.91806760e-03,\n",
       "         8.82316380e-17, -4.37634012e-16, -1.97921346e-16,\n",
       "         8.57025475e-17,  1.73855354e-15, -7.76395011e-16],\n",
       "       [ 2.63489383e-15, -2.75387351e-17,  6.19295465e-01,\n",
       "         2.39215478e-16,  2.16225982e-01,  2.41554187e-02,\n",
       "        -1.44592258e-17, -1.26998681e-16,  1.74147274e-01,\n",
       "         2.63849934e-01,  3.99013661e-17,  3.10130944e-01,\n",
       "         3.10706566e-16,  3.23998185e-01, -3.33658386e-16,\n",
       "         2.73006423e-16,  3.13270407e-01,  1.79611125e-16,\n",
       "         2.83500731e-01,  5.47877787e-16, -6.49051040e-17,\n",
       "         7.36599688e-17,  1.34930797e-16,  1.62306658e-16,\n",
       "         2.37255413e-01, -1.68847105e-01,  1.17455508e-04,\n",
       "        -2.18973804e-03,  6.86946818e-02,  1.27440242e-03],\n",
       "       [ 5.28405615e-01, -4.54959539e-01, -2.73455585e-17,\n",
       "         3.94342868e-01, -1.91955915e-16, -5.14658045e-16,\n",
       "         3.40640826e-01,  2.91693814e-01,  2.41056474e-16,\n",
       "        -1.16610555e-16,  2.46469187e-01,  2.19584979e-16,\n",
       "        -2.04397886e-01, -1.44276979e-16, -1.65078568e-01,\n",
       "        -1.27956478e-01,  6.76409030e-17, -9.14131721e-02,\n",
       "        -1.13314018e-16,  5.05513578e-02,  2.59584506e-05,\n",
       "         1.58049273e-04,  1.03556550e-02,  1.77500122e-03,\n",
       "         1.28740372e-17,  1.23129956e-16,  5.41828955e-18,\n",
       "        -2.71300051e-17, -7.13204507e-16,  3.95572352e-16],\n",
       "       [ 2.21784491e-15, -5.37764277e-17,  5.21273970e-01,\n",
       "         2.24393108e-16,  4.50638693e-01, -3.92338378e-01,\n",
       "         1.26999667e-16,  3.11444308e-16, -3.40670710e-01,\n",
       "        -2.93546828e-01, -3.77571491e-17, -2.49963658e-01,\n",
       "         1.85007329e-16, -2.09371465e-01,  2.57737209e-16,\n",
       "        -3.44239449e-17, -1.71409458e-01,  2.46068664e-17,\n",
       "        -1.35674844e-01, -2.14297197e-16, -1.94167121e-16,\n",
       "         6.42402904e-17, -1.45078926e-17, -1.72294057e-16,\n",
       "        -1.01183872e-01,  6.45635761e-02, -5.64035067e-05,\n",
       "         7.35118769e-04, -2.29782760e-02,  5.08592859e-04]])"
      ]
     },
     "execution_count": 139,
     "metadata": {},
     "output_type": "execute_result"
    }
   ],
   "source": [
    "V0"
   ]
  },
  {
   "cell_type": "code",
   "execution_count": 140,
   "metadata": {},
   "outputs": [],
   "source": [
    "c = V0[20]"
   ]
  },
  {
   "cell_type": "code",
   "execution_count": 141,
   "metadata": {},
   "outputs": [
    {
     "data": {
      "text/plain": [
       "array([ 1.27462396e-01,  5.03223992e-01, -1.41390726e-16,  2.92702108e-01,\n",
       "       -2.51209490e-16, -2.95547330e-16,  3.92190843e-01,  9.63158270e-02,\n",
       "       -1.50167503e-16,  2.48677717e-16, -2.08772279e-01, -5.52588963e-16,\n",
       "        3.31267518e-01,  4.59384838e-16,  2.43952352e-01,  1.27612523e-02,\n",
       "       -4.89057263e-16, -2.55312026e-01,  6.36261846e-16,  3.95436636e-01,\n",
       "        1.61136879e-04,  5.41772879e-03,  2.16738555e-01, -1.39662562e-02,\n",
       "       -1.39844048e-15,  8.47888455e-16,  6.22257300e-16, -1.00861874e-15,\n",
       "       -4.48492000e-15,  2.18101015e-16])"
      ]
     },
     "execution_count": 141,
     "metadata": {},
     "output_type": "execute_result"
    }
   ],
   "source": [
    "c"
   ]
  },
  {
   "cell_type": "code",
   "execution_count": 12,
   "metadata": {},
   "outputs": [],
   "source": [
    "from scipy import special\n",
    "\n",
    "import matplotlib.pyplot as plt\n",
    "\n"
   ]
  },
  {
   "cell_type": "code",
   "execution_count": 26,
   "metadata": {},
   "outputs": [],
   "source": [
    "p_monic = special.hermite(1, monic=True)"
   ]
  },
  {
   "cell_type": "code",
   "execution_count": 142,
   "metadata": {},
   "outputs": [],
   "source": [
    "y = np.polynomial.hermite.Hermite(c, [-10, 10])"
   ]
  },
  {
   "cell_type": "code",
   "execution_count": 143,
   "metadata": {},
   "outputs": [
    {
     "data": {
      "text/latex": [
       "$x \\mapsto \\text{0.1274624}\\,{H}_{0}(\\text{0.1}x) + \\text{0.50322399}\\,{H}_{1}(\\text{0.1}x) - \\text{(1.41390726e-16)}\\,{H}_{2}(\\text{0.1}x) + \\text{0.29270211}\\,{H}_{3}(\\text{0.1}x) - \\text{(2.5120949e-16)}\\,{H}_{4}(\\text{0.1}x) - \\text{(2.9554733e-16)}\\,{H}_{5}(\\text{0.1}x) + \\text{0.39219084}\\,{H}_{6}(\\text{0.1}x) + \\text{0.09631583}\\,{H}_{7}(\\text{0.1}x) - \\text{(1.50167503e-16)}\\,{H}_{8}(\\text{0.1}x) + \\text{(2.48677717e-16)}\\,{H}_{9}(\\text{0.1}x) - \\text{0.20877228}\\,{H}_{10}(\\text{0.1}x) - \\text{(5.52588963e-16)}\\,{H}_{11}(\\text{0.1}x) + \\text{0.33126752}\\,{H}_{12}(\\text{0.1}x) + \\text{(4.59384838e-16)}\\,{H}_{13}(\\text{0.1}x) + \\text{0.24395235}\\,{H}_{14}(\\text{0.1}x) + \\text{0.01276125}\\,{H}_{15}(\\text{0.1}x) - \\text{(4.89057263e-16)}\\,{H}_{16}(\\text{0.1}x) - \\text{0.25531203}\\,{H}_{17}(\\text{0.1}x) + \\text{(6.36261846e-16)}\\,{H}_{18}(\\text{0.1}x) + \\text{0.39543664}\\,{H}_{19}(\\text{0.1}x) + \\text{0.00016114}\\,{H}_{20}(\\text{0.1}x) + \\text{0.00541773}\\,{H}_{21}(\\text{0.1}x) + \\text{0.21673856}\\,{H}_{22}(\\text{0.1}x) - \\text{0.01396626}\\,{H}_{23}(\\text{0.1}x) - \\text{(1.39844048e-15)}\\,{H}_{24}(\\text{0.1}x) + \\text{(8.47888455e-16)}\\,{H}_{25}(\\text{0.1}x) + \\text{(6.222573e-16)}\\,{H}_{26}(\\text{0.1}x) - \\text{(1.00861874e-15)}\\,{H}_{27}(\\text{0.1}x) - \\text{(4.48492e-15)}\\,{H}_{28}(\\text{0.1}x) + \\text{(2.18101015e-16)}\\,{H}_{29}(\\text{0.1}x)$"
      ],
      "text/plain": [
       "Hermite([ 1.27462396e-01,  5.03223992e-01, -1.41390726e-16,  2.92702108e-01,\n",
       "       -2.51209490e-16, -2.95547330e-16,  3.92190843e-01,  9.63158270e-02,\n",
       "       -1.50167503e-16,  2.48677717e-16, -2.08772279e-01, -5.52588963e-16,\n",
       "        3.31267518e-01,  4.59384838e-16,  2.43952352e-01,  1.27612523e-02,\n",
       "       -4.89057263e-16, -2.55312026e-01,  6.36261846e-16,  3.95436636e-01,\n",
       "        1.61136879e-04,  5.41772879e-03,  2.16738555e-01, -1.39662562e-02,\n",
       "       -1.39844048e-15,  8.47888455e-16,  6.22257300e-16, -1.00861874e-15,\n",
       "       -4.48492000e-15,  2.18101015e-16], domain=[-10.,  10.], window=[-1,  1], symbol='x')"
      ]
     },
     "execution_count": 143,
     "metadata": {},
     "output_type": "execute_result"
    }
   ],
   "source": [
    "y"
   ]
  },
  {
   "cell_type": "code",
   "execution_count": 145,
   "metadata": {},
   "outputs": [
    {
     "data": {
      "text/plain": [
       "Text(0.5, 1.0, 'g = 4')"
      ]
     },
     "execution_count": 145,
     "metadata": {},
     "output_type": "execute_result"
    },
    {
     "data": {
      "image/png": "[encoded data removed]",
      "text/plain": [
       "<Figure size 640x480 with 1 Axes>"
      ]
     },
     "metadata": {},
     "output_type": "display_data"
    }
   ],
   "source": [
    "x = np.linspace(-10, 10, 2000)\n",
    "L = []\n",
    "c = 0\n",
    "for i in x:\n",
    "    if c >= 2:\n",
    "        L.append((y(i) * np.exp((-(i)**2)/2)/((10**18)*np.sqrt(c))))\n",
    "    else:\n",
    "        L.append((y(i) * np.exp((-(i)**2)/2)/(10**18)))\n",
    "    c = c + 1\n",
    "plt.plot(x, L)\n",
    "plt.title('g = 4')"
   ]
  }
 ],
 "metadata": {
  "kernelspec": {
   "display_name": "Python 3",
   "language": "python",
   "name": "python3"
  },
  "language_info": {
   "codemirror_mode": {
    "name": "ipython",
    "version": 3
   },
   "file_extension": ".py",
   "mimetype": "text/x-python",
   "name": "python",
   "nbconvert_exporter": "python",
   "pygments_lexer": "ipython3",
   "version": "3.8.10"
  }
 },
 "nbformat": 4,
 "nbformat_minor": 2
}
